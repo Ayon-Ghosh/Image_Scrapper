{
 "cells": [
  {
   "cell_type": "markdown",
   "metadata": {},
   "source": [
    "# Image Scrapper Roughwork"
   ]
  },
  {
   "cell_type": "markdown",
   "metadata": {},
   "source": [
    "# Non OOP apprach"
   ]
  },
  {
   "cell_type": "code",
   "execution_count": 1,
   "metadata": {},
   "outputs": [],
   "source": [
    "from selenium import webdriver\n",
    "from selenium.webdriver.support.ui import WebDriverWait\n",
    "from selenium.webdriver.support import expected_conditions as EC\n",
    "from selenium.webdriver.common.by import By\n",
    "from selenium.common.exceptions import TimeoutException"
   ]
  },
  {
   "cell_type": "code",
   "execution_count": 2,
   "metadata": {},
   "outputs": [],
   "source": [
    "from bs4 import BeautifulSoup as bs\n",
    "import requests\n",
    "import pandas as pd"
   ]
  },
  {
   "cell_type": "code",
   "execution_count": 3,
   "metadata": {},
   "outputs": [],
   "source": [
    "import os\n",
    "import time"
   ]
  },
  {
   "cell_type": "code",
   "execution_count": 28,
   "metadata": {},
   "outputs": [
    {
     "name": "stdout",
     "output_type": "stream",
     "text": [
      "enter the search item: Birla\n",
      "Birla\n"
     ]
    }
   ],
   "source": [
    "# enterign search_criteria\n",
    "search_criteria = input(\"enter the search item: \").replace(' ','')\n",
    "print(search_criteria)"
   ]
  },
  {
   "cell_type": "code",
   "execution_count": 29,
   "metadata": {},
   "outputs": [
    {
     "data": {
      "text/plain": [
       "'https://www.google.com/search?safe=off&site=&tbm=isch&source=hp&q=Birla&oq=Birla&gs_l=img'"
      ]
     },
     "execution_count": 29,
     "metadata": {},
     "output_type": "execute_result"
    }
   ],
   "source": [
    "#defining driver\n",
    "DRIVER_PATH = './chromedriver'\n",
    "def scroll_to_end(wd):\n",
    "#load the fill page instead of scroll \n",
    "        wd.execute_script(\"window.scrollTo(0, document.body.scrollHeight);\")\n",
    "#defining the sleep between each hit at the server    \n",
    "        time.sleep(sleep_between_interactions)\n",
    "#building the url to search    \n",
    "search_url = \"https://www.google.com/search?safe=off&site=&tbm=isch&source=hp&q={q}&oq={q}&gs_l=img\".format(q=search_criteria) \n",
    "search_url"
   ]
  },
  {
   "cell_type": "code",
   "execution_count": 30,
   "metadata": {},
   "outputs": [],
   "source": [
    "#initializing the driver\n",
    "driver = webdriver.Chrome()"
   ]
  },
  {
   "cell_type": "code",
   "execution_count": 31,
   "metadata": {},
   "outputs": [],
   "source": [
    "#loading the page in the chrome driver that was initialized before\n",
    "driver.get(search_url)"
   ]
  },
  {
   "cell_type": "code",
   "execution_count": 32,
   "metadata": {},
   "outputs": [
    {
     "data": {
      "text/plain": [
       "[<selenium.webdriver.remote.webelement.WebElement (session=\"e63b650a9967c3c3818e7acbd0588244\", element=\"0bb1f88a-6588-4609-9c26-cd4aba9212da\")>,\n",
       " <selenium.webdriver.remote.webelement.WebElement (session=\"e63b650a9967c3c3818e7acbd0588244\", element=\"9d77615c-98f8-4f47-ab7a-9931b339cfa6\")>,\n",
       " <selenium.webdriver.remote.webelement.WebElement (session=\"e63b650a9967c3c3818e7acbd0588244\", element=\"9355ee38-2c9b-4507-b9e5-2f455eb92c4c\")>,\n",
       " <selenium.webdriver.remote.webelement.WebElement (session=\"e63b650a9967c3c3818e7acbd0588244\", element=\"6ff7fb72-87ca-4554-8ead-f6e9e2c8e366\")>,\n",
       " <selenium.webdriver.remote.webelement.WebElement (session=\"e63b650a9967c3c3818e7acbd0588244\", element=\"7e4d5963-4178-4b9b-b11b-b34b64f779eb\")>,\n",
       " <selenium.webdriver.remote.webelement.WebElement (session=\"e63b650a9967c3c3818e7acbd0588244\", element=\"2635052a-98e4-44a4-9ab4-a369d8c08dd4\")>,\n",
       " <selenium.webdriver.remote.webelement.WebElement (session=\"e63b650a9967c3c3818e7acbd0588244\", element=\"ce8a0a21-a7e9-4c68-af66-bfab7abc72de\")>,\n",
       " <selenium.webdriver.remote.webelement.WebElement (session=\"e63b650a9967c3c3818e7acbd0588244\", element=\"35f4aa03-25b6-47ca-bac8-57bb389f8871\")>,\n",
       " <selenium.webdriver.remote.webelement.WebElement (session=\"e63b650a9967c3c3818e7acbd0588244\", element=\"e372a4db-1a5f-4c4d-b222-41e3a7f07b7e\")>,\n",
       " <selenium.webdriver.remote.webelement.WebElement (session=\"e63b650a9967c3c3818e7acbd0588244\", element=\"cbf0e04b-78c6-4815-b426-40962122d929\")>,\n",
       " <selenium.webdriver.remote.webelement.WebElement (session=\"e63b650a9967c3c3818e7acbd0588244\", element=\"15f0a670-ec8b-4c5e-a9dc-d74e65340198\")>,\n",
       " <selenium.webdriver.remote.webelement.WebElement (session=\"e63b650a9967c3c3818e7acbd0588244\", element=\"6baf7692-19e9-4255-a86f-e42b988870e0\")>,\n",
       " <selenium.webdriver.remote.webelement.WebElement (session=\"e63b650a9967c3c3818e7acbd0588244\", element=\"92971020-a39c-4d60-ae1c-36852b09e2cb\")>,\n",
       " <selenium.webdriver.remote.webelement.WebElement (session=\"e63b650a9967c3c3818e7acbd0588244\", element=\"f3d924c2-a4bf-4af7-9738-b691cb3f27c0\")>,\n",
       " <selenium.webdriver.remote.webelement.WebElement (session=\"e63b650a9967c3c3818e7acbd0588244\", element=\"300ff36d-9b00-4cf4-9372-bb8bd99100f8\")>,\n",
       " <selenium.webdriver.remote.webelement.WebElement (session=\"e63b650a9967c3c3818e7acbd0588244\", element=\"aa6f2cc3-5245-4003-a032-79f7787b5cd1\")>,\n",
       " <selenium.webdriver.remote.webelement.WebElement (session=\"e63b650a9967c3c3818e7acbd0588244\", element=\"5ea5131d-8e41-455c-9d3c-65bcc7e574fa\")>,\n",
       " <selenium.webdriver.remote.webelement.WebElement (session=\"e63b650a9967c3c3818e7acbd0588244\", element=\"13bbebf4-1279-432e-8ae1-d5d447fff380\")>,\n",
       " <selenium.webdriver.remote.webelement.WebElement (session=\"e63b650a9967c3c3818e7acbd0588244\", element=\"2bb037f1-4968-4831-b4f0-80a18403cee7\")>,\n",
       " <selenium.webdriver.remote.webelement.WebElement (session=\"e63b650a9967c3c3818e7acbd0588244\", element=\"9aefce80-32a9-416a-80ba-0143fd14d35d\")>,\n",
       " <selenium.webdriver.remote.webelement.WebElement (session=\"e63b650a9967c3c3818e7acbd0588244\", element=\"3f549bfb-a833-4f5b-910d-b1f30fb9e92a\")>,\n",
       " <selenium.webdriver.remote.webelement.WebElement (session=\"e63b650a9967c3c3818e7acbd0588244\", element=\"9523ffa5-c0b6-4f15-83e3-3ea2861b1770\")>,\n",
       " <selenium.webdriver.remote.webelement.WebElement (session=\"e63b650a9967c3c3818e7acbd0588244\", element=\"a4da4420-dede-44d7-8a71-2b736524c5cb\")>,\n",
       " <selenium.webdriver.remote.webelement.WebElement (session=\"e63b650a9967c3c3818e7acbd0588244\", element=\"ff323e0c-014b-4119-9451-ac500d907e62\")>,\n",
       " <selenium.webdriver.remote.webelement.WebElement (session=\"e63b650a9967c3c3818e7acbd0588244\", element=\"460da9c1-a22b-4445-9aea-6a4f4652ec5e\")>,\n",
       " <selenium.webdriver.remote.webelement.WebElement (session=\"e63b650a9967c3c3818e7acbd0588244\", element=\"a678b9bc-42a1-4a94-9005-88a903c3e68b\")>,\n",
       " <selenium.webdriver.remote.webelement.WebElement (session=\"e63b650a9967c3c3818e7acbd0588244\", element=\"23465149-af8e-4010-9215-a4217061308b\")>,\n",
       " <selenium.webdriver.remote.webelement.WebElement (session=\"e63b650a9967c3c3818e7acbd0588244\", element=\"f413b88c-5e9d-4adb-a1ae-989805117aa9\")>,\n",
       " <selenium.webdriver.remote.webelement.WebElement (session=\"e63b650a9967c3c3818e7acbd0588244\", element=\"c875fa15-7aa5-49c2-840c-9cceed1c6a1e\")>,\n",
       " <selenium.webdriver.remote.webelement.WebElement (session=\"e63b650a9967c3c3818e7acbd0588244\", element=\"cfe81ea8-bbf6-40a9-a5be-dba0c69699eb\")>,\n",
       " <selenium.webdriver.remote.webelement.WebElement (session=\"e63b650a9967c3c3818e7acbd0588244\", element=\"efb3e4dd-e6a3-4e15-b78f-f8ec37b5a307\")>,\n",
       " <selenium.webdriver.remote.webelement.WebElement (session=\"e63b650a9967c3c3818e7acbd0588244\", element=\"be35a05d-6220-444b-8228-5d8ed38849c3\")>,\n",
       " <selenium.webdriver.remote.webelement.WebElement (session=\"e63b650a9967c3c3818e7acbd0588244\", element=\"62cc40ef-5f96-4a3a-9d86-1bcd3b5d77c3\")>,\n",
       " <selenium.webdriver.remote.webelement.WebElement (session=\"e63b650a9967c3c3818e7acbd0588244\", element=\"40a3ff55-a732-4a07-adfe-867b1904df53\")>,\n",
       " <selenium.webdriver.remote.webelement.WebElement (session=\"e63b650a9967c3c3818e7acbd0588244\", element=\"9bac47f7-87d4-4934-99b1-6956eb979acb\")>,\n",
       " <selenium.webdriver.remote.webelement.WebElement (session=\"e63b650a9967c3c3818e7acbd0588244\", element=\"ec998768-2f21-4cdc-beac-89563ac8ed98\")>,\n",
       " <selenium.webdriver.remote.webelement.WebElement (session=\"e63b650a9967c3c3818e7acbd0588244\", element=\"9639b9e3-cf99-4566-82a6-3cf7bb7b549f\")>,\n",
       " <selenium.webdriver.remote.webelement.WebElement (session=\"e63b650a9967c3c3818e7acbd0588244\", element=\"a28047bc-27a4-41c5-83f6-5252d45fc8c7\")>,\n",
       " <selenium.webdriver.remote.webelement.WebElement (session=\"e63b650a9967c3c3818e7acbd0588244\", element=\"93217d96-eaf1-47cc-a54f-a98bed088e72\")>,\n",
       " <selenium.webdriver.remote.webelement.WebElement (session=\"e63b650a9967c3c3818e7acbd0588244\", element=\"712d16e7-8296-4ca8-9a7a-ac249a1a6cfe\")>,\n",
       " <selenium.webdriver.remote.webelement.WebElement (session=\"e63b650a9967c3c3818e7acbd0588244\", element=\"6d739ea3-2b6b-4f9b-ab04-8f3657d03107\")>,\n",
       " <selenium.webdriver.remote.webelement.WebElement (session=\"e63b650a9967c3c3818e7acbd0588244\", element=\"b9ba4ec6-e3ee-47a0-9756-ef615cb52b1c\")>,\n",
       " <selenium.webdriver.remote.webelement.WebElement (session=\"e63b650a9967c3c3818e7acbd0588244\", element=\"628eb78b-afa7-45e8-be8a-7d2ab1764b92\")>,\n",
       " <selenium.webdriver.remote.webelement.WebElement (session=\"e63b650a9967c3c3818e7acbd0588244\", element=\"c493195a-ee47-4bb0-8f86-1804459fe5ce\")>,\n",
       " <selenium.webdriver.remote.webelement.WebElement (session=\"e63b650a9967c3c3818e7acbd0588244\", element=\"311e0ce1-4c4f-4395-8a37-cb1de1f023cf\")>,\n",
       " <selenium.webdriver.remote.webelement.WebElement (session=\"e63b650a9967c3c3818e7acbd0588244\", element=\"dc5a392e-03e5-4ff1-9ddb-ae7ae234837f\")>,\n",
       " <selenium.webdriver.remote.webelement.WebElement (session=\"e63b650a9967c3c3818e7acbd0588244\", element=\"648f070e-8a46-43c9-bed6-84827e46404e\")>,\n",
       " <selenium.webdriver.remote.webelement.WebElement (session=\"e63b650a9967c3c3818e7acbd0588244\", element=\"09342e5a-717a-40da-a50a-a6ff2035ce17\")>]"
      ]
     },
     "execution_count": 32,
     "metadata": {},
     "output_type": "execute_result"
    }
   ],
   "source": [
    "#getting the details of each image thumbnails in a list - all post\n",
    "all_posts = driver.find_elements_by_class_name(\"Q4LuWd\")\n",
    "all_posts"
   ]
  },
  {
   "cell_type": "code",
   "execution_count": 33,
   "metadata": {},
   "outputs": [],
   "source": [
    "#initializing an enpty list to append urls\n",
    "image_url = []\n",
    "# instead of reading all post which would be service heavy - we are reading only 15 such thumbnails and looping through them\n",
    "for post in all_posts[0:15]:\n",
    "    try:\n",
    "#imitating browser action to click each thumbnail        \n",
    "        post.click()\n",
    "#also defining timesleep bwtn clicks    \n",
    "        time.sleep(0.5)\n",
    "    except Exception:\n",
    "        continue\n",
    "#after clicking a separate page opens up with the image source, so extracting the entire 'n3VNCb' block to filter the src url from it\n",
    "#driver.find_elements_by_css_selector('img:n3VNCb') could also have been used\n",
    "    actual_images = driver.find_elements_by_class_name('n3VNCb')\n",
    "    for actual_image in actual_images:\n",
    "#checking to make sure each of this extracted links have src and http in it        \n",
    "          if actual_image.get_attribute('src') and 'http' in actual_image.get_attribute('src'):\n",
    "                image_url.append(actual_image.get_attribute('src'))"
   ]
  },
  {
   "cell_type": "code",
   "execution_count": 34,
   "metadata": {},
   "outputs": [
    {
     "data": {
      "text/plain": [
       "['https://upload.wikimedia.org/wikipedia/commons/thumb/c/c6/Lalu_Prasad_presenting_the_JRD_Tata_Corporate_Leadership_Award_to_Shri_Kumar_Mangalam_Birla%2C_Chairman%2C_Aditya_Birla_Group%2C_Mumbai%2C_at_the_Foundation_Day_of_All_India_Management_Association_%28AIMA%29%2C_in_New_Delhi.jpg/1200px-thumbnail.jpg',\n",
       " 'https://images.financialexpress.com/2019/07/birla.jpg']"
      ]
     },
     "execution_count": 34,
     "metadata": {},
     "output_type": "execute_result"
    }
   ],
   "source": [
    "#printing the list of urls appended in image_url\n",
    "image_url"
   ]
  },
  {
   "cell_type": "code",
   "execution_count": 35,
   "metadata": {},
   "outputs": [
    {
     "data": {
      "text/plain": [
       "2"
      ]
     },
     "execution_count": 35,
     "metadata": {},
     "output_type": "execute_result"
    }
   ],
   "source": [
    "len(image_url)"
   ]
  },
  {
   "cell_type": "code",
   "execution_count": 37,
   "metadata": {},
   "outputs": [],
   "source": [
    "#we want to save the image as search_critera_1.jpg such as apple_1.jpg, tree_2.jpg in the target_image folder\n",
    "#1,2 in the file name is set by the counter\n",
    "counter = 0\n",
    "target_path='./target_image'\n",
    "#looping through each url in the image_url lust\n",
    "for image in image_url:\n",
    "#extracting the image details of pixels in image_content    \n",
    "    image_content = requests.get(image).content\n",
    "#writing the binary file in /jpg    \n",
    "    f = open(os.path.join(target_path, f\"{search_criteria}\" + \"_\" + str(counter) + \".jpg\"), 'wb')\n",
    "    f.write(image_content)\n",
    "    f.close()\n",
    "    counter = counter+1"
   ]
  },
  {
   "cell_type": "code",
   "execution_count": 38,
   "metadata": {},
   "outputs": [
    {
     "data": {
      "text/plain": [
       "['Birla_0.jpg', 'Birla_1.jpg']"
      ]
     },
     "execution_count": 38,
     "metadata": {},
     "output_type": "execute_result"
    }
   ],
   "source": [
    "#getting the list of all the files_names so we can delete them in future\n",
    "list_of_jpg_files=[]\n",
    "list_of_files=os.listdir(target_path)\n",
    "list_of_files"
   ]
  },
  {
   "cell_type": "code",
   "execution_count": 39,
   "metadata": {},
   "outputs": [],
   "source": [
    "#deleting the files before new search critera\n",
    "for i in list_of_files:\n",
    "    try:\n",
    "        os.remove(f\"./{target_path}/\"+ i)\n",
    "    except Exception as e:\n",
    "        print('error in deleting:  ',e)\n",
    "    "
   ]
  },
  {
   "cell_type": "markdown",
   "metadata": {},
   "source": [
    "# OOPS Approach"
   ]
  },
  {
   "cell_type": "code",
   "execution_count": 15,
   "metadata": {},
   "outputs": [],
   "source": [
    "class imageScrapperUtilities:\n",
    "    def __init__(self, target_path):\n",
    "        self.target_path = target_path\n",
    "        \n",
    "    def emptyTargetDir(self):\n",
    "        list_of_jpg_files=[]\n",
    "        list_of_files=os.listdir(self.target_path)\n",
    "        if len(list_of_files)>0:\n",
    "            for i in list_of_files:\n",
    "                    try:\n",
    "                        os.remove(f\"./{self.target_path}/\"+ i)\n",
    "                    except Exception as e:\n",
    "                        print('error in deleting:  ',e)  \n",
    "    \n",
    "    \n",
    "    \n",
    "            \n",
    "                          "
   ]
  },
  {
   "cell_type": "code",
   "execution_count": 16,
   "metadata": {},
   "outputs": [],
   "source": [
    "class fetchAndSaveImage:\n",
    "    def __init__(self, sleep_between_interactions,target_path,search_criteria,driver_path):\n",
    "        self.sleep_between_interactions = sleep_between_interactions\n",
    "        self.driver_path = driver_path\n",
    "        self.target_path = target_path\n",
    "        self.search_criteria = search_criteria\n",
    "        self.driver = webdriver.Chrome(executable_path=self.driver_path)   \n",
    "        self.search_url = \"https://www.google.com/search?safe=off&site=&tbm=isch&source=hp&q={q}&oq={q}&gs_l=img\".format(q=search_criteria) \n",
    "        self.driver.execute_script(\"window.scrollTo(0, document.body.scrollHeight);\")\n",
    "              \n",
    "        print(self.search_url)   \n",
    "    \n",
    "    \n",
    "    def gatherImageSrc(self):\n",
    "        self.driver.get(self.search_url)\n",
    "        all_posts = self.driver.find_elements_by_class_name(\"Q4LuWd\")\n",
    "        print(len(all_posts))\n",
    "        self.image_url_list = []\n",
    "        for post in all_posts[0:20]:\n",
    "            try:\n",
    "                post.click()\n",
    "                time.sleep(sleep_between_interactions)\n",
    "        \n",
    "            except Exception:\n",
    "                continue\n",
    "            print('----------------')\n",
    "            actual_images = self.driver.find_elements_by_class_name('n3VNCb')\n",
    "            for actual_image in actual_images:\n",
    "                  if actual_image.get_attribute('src') and 'http' in actual_image.get_attribute('src'):\n",
    "                           self.image_url_list.append(actual_image.get_attribute('src'))\n",
    "        print(self.image_url_list ) \n",
    "        print('$$$$$$$$$$$')\n",
    "        print(len(self.image_url_list) ) \n",
    "        return self.image_url_list  \n",
    "    \n",
    "    def saveImage(self):\n",
    "        counter = 0\n",
    "        for image in self.image_url_list:\n",
    "            image_content = requests.get(image).content\n",
    "            f = open(os.path.join(self.target_path, f\"{self.search_criteria}\" + \"_\" + str(counter) + \".jpg\"), 'wb')\n",
    "            f.write(image_content)\n",
    "            f.close()\n",
    "            counter = counter+1"
   ]
  },
  {
   "cell_type": "code",
   "execution_count": 17,
   "metadata": {},
   "outputs": [
    {
     "name": "stdout",
     "output_type": "stream",
     "text": [
      "enter the search item: tata\n",
      "tata\n"
     ]
    }
   ],
   "source": [
    "driver_path = './chromedriver'\n",
    "sleep_between_interactions = 0.5\n",
    "target_path='./target_image'\n",
    "search_criteria = input(\"enter the search item: \").replace(' ','')\n",
    "print(search_criteria)"
   ]
  },
  {
   "cell_type": "code",
   "execution_count": 18,
   "metadata": {},
   "outputs": [],
   "source": [
    "def search_and_download(target_path,sleep_between_interactions,search_criteria,driver_path):\n",
    "        \n",
    "        \n",
    "        \n",
    "        #with webdriver.Chrome(executable_path=driver_path) as driver:\n",
    "            #driver.execute_script(\"window.scrollTo(0, document.body.scrollHeight);\")\n",
    "            imageScrapperUtilitiesObject = imageScrapperUtilities(target_path)\n",
    "            fetchAndSaveImageObject = fetchAndSaveImage(sleep_between_interactions,target_path,search_criteria,driver_path)\n",
    "            imageScrapperUtilitiesObject.emptyTargetDir()    \n",
    "            fetchAndSaveImageObject.gatherImageSrc()\n",
    "            fetchAndSaveImageObject.saveImage()\n",
    "        \n",
    "        "
   ]
  },
  {
   "cell_type": "code",
   "execution_count": 19,
   "metadata": {},
   "outputs": [
    {
     "name": "stdout",
     "output_type": "stream",
     "text": [
      "https://www.google.com/search?safe=off&site=&tbm=isch&source=hp&q=tata&oq=tata&gs_l=img\n",
      "48\n",
      "----------------\n",
      "----------------\n",
      "----------------\n",
      "----------------\n",
      "----------------\n",
      "----------------\n",
      "----------------\n",
      "----------------\n",
      "----------------\n",
      "----------------\n",
      "----------------\n",
      "----------------\n",
      "----------------\n",
      "----------------\n",
      "----------------\n",
      "----------------\n",
      "----------------\n",
      "----------------\n",
      "----------------\n",
      "----------------\n",
      "['https://etimg.etb2bimg.com/photo/73698519.cms', 'https://images.carandbike.com/car-images/colors/tata/nexon/tata-nexon-calgary-white.webp?v=1579759339', 'https://images.moneycontrol.com/static-mcnews/2019/12/Nexon-EV-5-770x433.jpg?impolicy=website&width=770&height=431', 'https://www.ft.com/__origami/service/image/v2/images/raw/https%3A%2F%2Fs3-ap-northeast-1.amazonaws.com%2Fpsh-ex-ftnikkei-3937bb4%2Fimages%2F1%2F6%2F4%2F2%2F19322461-4-eng-GB%2FCropped-1550000211%E3%82%BF%E3%82%BF%E3%81%AE%E3%81%97%E3%81%8B%E3%81%91%EF%BC%B0%EF%BC%9A%E3%82%BF%E3%82%BF%E8%87%AA%E5%8B%95%E8%BB%8A20190212143235788_Data.jpg?source=nar-cms', 'https://upload.wikimedia.org/wikipedia/commons/thumb/8/8e/Tata_logo.svg/1200px-Tata_logo.svg.png', 'https://images.financialexpress.com/2020/02/tata-hrx-660.jpg', 'https://static.toiimg.com/thumb/resizemode-4,width-1200,msid-73119761/73119761.jpg', 'https://images-na.ssl-images-amazon.com/images/I/71Zgo1OPc-L._AC_SX425_.jpg', 'https://cars.tatamotors.com/images/nexon/nex-level-mob.png', 'https://m.economictimes.com/thumb/msid-73904906,width-1200,height-900,resizemode-4,imgsize-112153/tata-motors-agencies.jpg', 'https://bsmedia.business-standard.com/_media/bs/img/article/2019-01/23/full/1548231444-8493.jpg', 'https://www.ft.com/__origami/service/image/v2/images/raw/https%3A%2F%2Fs3-ap-northeast-1.amazonaws.com%2Fpsh-ex-ftnikkei-3937bb4%2Fimages%2F3%2F7%2F0%2F8%2F24058073-2-eng-GB%2FCropped-1576757028Tata%20EV.jpeg?source=nar-cms', 'https://cdn.shopify.com/s/files/1/0231/6137/2752/products/cushion_tata_01_2000x.jpg?v=1582622459', 'https://imgd.aeplcdn.com/1200x900/n/cw/ec/32597/tata-altroz-right-front-three-quarter20.jpeg?q=85', 'https://cdni.autocarindia.com/Utils/ImageResizer.ashx?n=http%3A%2F%2Fcdni.autocarindia.com%2FExtraImages%2F20200217020804_Tata-HBX-blue-ACI.jpg&h=578&w=872&c=0', 'https://imgd.aeplcdn.com/1200x900/n/cw/ec/41645/tata-nexon-right-front-three-quarter3.jpeg?q=85', 'https://c.ndtvimg.com/2020-03/76omae7o_tata_640x480_16_March_20.jpg', 'https://encrypted-tbn0.gstatic.com/images?q=tbn%3AANd9GcRbq0kKlJPEv84-0q06XmQqUoWquD3LdtjQFvuO65cQw3qdKAJG&usqp=CAU']\n",
      "$$$$$$$$$$$\n",
      "18\n"
     ]
    }
   ],
   "source": [
    "search_and_download(target_path,sleep_between_interactions,search_criteria,driver_path)    "
   ]
  },
  {
   "cell_type": "code",
   "execution_count": null,
   "metadata": {},
   "outputs": [],
   "source": []
  }
 ],
 "metadata": {
  "kernelspec": {
   "display_name": "Python 3",
   "language": "python",
   "name": "python3"
  },
  "language_info": {
   "codemirror_mode": {
    "name": "ipython",
    "version": 3
   },
   "file_extension": ".py",
   "mimetype": "text/x-python",
   "name": "python",
   "nbconvert_exporter": "python",
   "pygments_lexer": "ipython3",
   "version": "3.7.4"
  }
 },
 "nbformat": 4,
 "nbformat_minor": 2
}
